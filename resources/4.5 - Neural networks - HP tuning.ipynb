{
 "cells": [
  {
   "cell_type": "markdown",
   "metadata": {},
   "source": [
    "HP tuning\n",
    "=========\n",
    "\n"
   ]
  },
  {
   "cell_type": "code",
   "execution_count": null,
   "metadata": {},
   "outputs": [],
   "source": [
    "!pip install glasspy\n",
    "!pip install optuna"
   ]
  },
  {
   "cell_type": "markdown",
   "metadata": {},
   "source": [
    "## Introduction\n",
    "\n"
   ]
  },
  {
   "cell_type": "markdown",
   "metadata": {},
   "source": [
    "Finding the best set of hyperparameters for a given problem is NP-hard. There are many strategies to find a reasonable set of hyperparameters. Here we will use a Bayesian strategy with the `optuna` module.\n",
    "\n"
   ]
  },
  {
   "cell_type": "markdown",
   "metadata": {},
   "source": [
    "## Imports\n",
    "\n"
   ]
  },
  {
   "cell_type": "code",
   "execution_count": null,
   "metadata": {},
   "outputs": [],
   "source": [
    "import torch\n",
    "import lightning as L\n",
    "import optuna\n",
    "from sklearn.model_selection import train_test_split\n",
    "from glasspy.data import SciGlass\n",
    "from sklearn.preprocessing import MaxAbsScaler\n",
    "from torch.utils.data import DataLoader, TensorDataset\n",
    "from optuna import create_study, Trial\n",
    "from glasspy.predict.base import MLP"
   ]
  },
  {
   "cell_type": "markdown",
   "metadata": {},
   "source": [
    "## Data pipeline\n",
    "\n"
   ]
  },
  {
   "cell_type": "markdown",
   "metadata": {},
   "source": [
    "Collect, process, and split the data. You know the drill by now.\n",
    "\n"
   ]
  },
  {
   "cell_type": "markdown",
   "metadata": {},
   "source": [
    "### Collecting the data\n",
    "\n"
   ]
  },
  {
   "cell_type": "code",
   "execution_count": null,
   "metadata": {},
   "outputs": [],
   "source": [
    "config_prop = {\n",
    "    \"must_have_and\": [\"Tg\"],\n",
    "}\n",
    "\n",
    "config_comp = {\n",
    "    \"must_have_only\": [\n",
    "        \"SiO2\",\n",
    "        \"Li2O\",\n",
    "        \"Na2O\",\n",
    "        \"K2O\",\n",
    "        \"CaO\",\n",
    "        \"MgO\",\n",
    "        \"BaO\",\n",
    "        \"Al2O3\",\n",
    "        \"TiO2\",\n",
    "    ],\n",
    "}\n",
    "\n",
    "source = SciGlass(\n",
    "    elements_cfg={},\n",
    "    properties_cfg=config_prop,\n",
    "    compounds_cfg=config_comp,\n",
    ")\n",
    "\n",
    "source.remove_duplicate_composition(\n",
    "    scope=\"compounds\",\n",
    "    decimals=3,\n",
    "    aggregator=\"median\",\n",
    ")\n",
    "\n",
    "df = source.data\n",
    "\n",
    "df[\"property\"].info()"
   ]
  },
  {
   "cell_type": "code",
   "execution_count": null,
   "metadata": {},
   "outputs": [],
   "source": [
    "idx = df.index\n",
    "\n",
    "X = df[\"compounds\"]\n",
    "y = df[\"property\"][\"Tg\"]"
   ]
  },
  {
   "cell_type": "markdown",
   "metadata": {},
   "source": [
    "### Splitting the data\n",
    "\n"
   ]
  },
  {
   "cell_type": "code",
   "execution_count": null,
   "metadata": {},
   "outputs": [],
   "source": [
    "TEST_SIZE = 0.1\n",
    "RANDOM_SEED = 61455"
   ]
  },
  {
   "cell_type": "code",
   "execution_count": null,
   "metadata": {},
   "outputs": [],
   "source": [
    "indices = df.index\n",
    "train_val_idx, test_idx = train_test_split(\n",
    "    indices, test_size=TEST_SIZE, random_state=RANDOM_SEED\n",
    ")\n",
    "\n",
    "X_train_val = X.loc[train_val_idx]\n",
    "y_train_val = y.loc[train_val_idx]\n",
    "\n",
    "X_test = X.loc[test_idx].values\n",
    "y_test = y.loc[test_idx].values.reshape(-1,1)"
   ]
  },
  {
   "cell_type": "code",
   "execution_count": null,
   "metadata": {},
   "outputs": [],
   "source": [
    "train_idx, val_idx = train_test_split(\n",
    "    train_val_idx, test_size=TEST_SIZE, random_state=RANDOM_SEED\n",
    ")\n",
    "\n",
    "X_train = X.loc[train_idx].values\n",
    "y_train = y.loc[train_idx].values.reshape(-1,1)\n",
    "\n",
    "X_val = X.loc[val_idx].values\n",
    "y_val = y.loc[val_idx].values.reshape(-1,1)"
   ]
  },
  {
   "cell_type": "markdown",
   "metadata": {},
   "source": [
    "### Normalization\n",
    "\n"
   ]
  },
  {
   "cell_type": "code",
   "execution_count": null,
   "metadata": {},
   "outputs": [],
   "source": [
    "x_scaler = MaxAbsScaler()\n",
    "x_scaler.fit(X_train)\n",
    "\n",
    "y_scaler = MaxAbsScaler()\n",
    "y_scaler.fit(y_train)\n",
    "\n",
    "X_train = x_scaler.transform(X_train)\n",
    "y_train = y_scaler.transform(y_train)\n",
    "\n",
    "X_val = x_scaler.transform(X_val)\n",
    "y_val = y_scaler.transform(y_val)\n",
    "\n",
    "X_test = x_scaler.transform(X_test)\n",
    "y_test = y_scaler.transform(y_test)"
   ]
  },
  {
   "cell_type": "code",
   "execution_count": null,
   "metadata": {},
   "outputs": [],
   "source": [
    "X_train = torch.tensor(X_train, dtype=torch.float32)\n",
    "y_train = torch.tensor(y_train, dtype=torch.float32)\n",
    "\n",
    "X_val = torch.tensor(X_val, dtype=torch.float32)\n",
    "y_val = torch.tensor(y_val, dtype=torch.float32)\n",
    "\n",
    "X_test = torch.tensor(X_test, dtype=torch.float32)\n",
    "y_test = torch.tensor(y_test, dtype=torch.float32)"
   ]
  },
  {
   "cell_type": "markdown",
   "metadata": {},
   "source": [
    "### The DataModule class\n",
    "\n"
   ]
  },
  {
   "cell_type": "code",
   "execution_count": null,
   "metadata": {},
   "outputs": [],
   "source": [
    "class DataModule(L.LightningDataModule):\n",
    "    def __init__(\n",
    "        self,\n",
    "        X_train,\n",
    "        y_train,\n",
    "        X_val,\n",
    "        y_val,\n",
    "        X_test,\n",
    "        y_test,\n",
    "        x_scaler=None,\n",
    "        y_scaler=None,\n",
    "        batch_size = 256,\n",
    "        num_workers = 2,\n",
    "    ):\n",
    "        super().__init__()\n",
    "\n",
    "        self.batch_size = batch_size\n",
    "        self.num_workers = num_workers\n",
    "\n",
    "        self.X_train = X_train\n",
    "        self.y_train = y_train\n",
    "        self.X_val = X_val\n",
    "        self.y_val = y_val\n",
    "        self.X_test = X_test\n",
    "        self.y_test = y_test\n",
    "        self.x_scaler = x_scaler\n",
    "        self.y_scaler = y_scaler\n",
    "\n",
    "\n",
    "    def train_dataloader(self):\n",
    "        return DataLoader(\n",
    "            TensorDataset(self.X_train, self.y_train),\n",
    "            batch_size=self.batch_size,\n",
    "            num_workers=self.num_workers,\n",
    "        )\n",
    "\n",
    "    def val_dataloader(self):\n",
    "        return DataLoader(\n",
    "            TensorDataset(self.X_val, self.y_val),\n",
    "            batch_size=self.batch_size,\n",
    "            num_workers=self.num_workers,\n",
    "        )\n",
    "\n",
    "    def test_dataloader(self):\n",
    "        return DataLoader(\n",
    "            TensorDataset(self.X_test, self.y_test),\n",
    "            batch_size=self.batch_size,\n",
    "            num_workers=self.num_workers,\n",
    "        )"
   ]
  },
  {
   "cell_type": "code",
   "execution_count": null,
   "metadata": {},
   "outputs": [],
   "source": [
    "dm = DataModule(\n",
    "    X_train, y_train, X_val, y_val, X_test, y_test, x_scaler, y_scaler\n",
    ")"
   ]
  },
  {
   "cell_type": "markdown",
   "metadata": {},
   "source": [
    "## Hyperparameter tuning\n",
    "\n"
   ]
  },
  {
   "cell_type": "markdown",
   "metadata": {},
   "source": [
    "### Search space\n",
    "\n"
   ]
  },
  {
   "cell_type": "markdown",
   "metadata": {},
   "source": [
    "We need a function that creates an instance of the desired model. This function must also define the search space using the `suggest_int`, `suggest_float`, and `suggest_categorical`.\n",
    "\n"
   ]
  },
  {
   "cell_type": "code",
   "execution_count": null,
   "metadata": {},
   "outputs": [],
   "source": [
    "num_features = X.shape[1]\n",
    "num_targets = 1\n",
    "\n",
    "\n",
    "def create_model_instance(trial):\n",
    "    activation = trial.suggest_categorical(\n",
    "        \"activation\", [\"Tanh\", \"Sigmoid\", \"ReLU\"]\n",
    "    )\n",
    "\n",
    "    hparams = {\n",
    "        \"num_layers\": 2,\n",
    "        \"n_features\": num_features,\n",
    "        \"n_targets\": num_targets,\n",
    "        \"layer_1_activation\": activation,\n",
    "        \"layer_1_size\": trial.suggest_int(\"layer_1_size\", 1, 20),\n",
    "        \"layer_2_activation\": activation,\n",
    "        \"layer_2_size\": trial.suggest_int(\"layer_2_size\", 1, 20),\n",
    "        \"loss\": \"mse\",\n",
    "        \"max_epochs\": trial.suggest_int(\"max_epochs\", 5, 30),\n",
    "        \"optimizer\": trial.suggest_categorical(\"optimizer\", [\"SGD\", \"Adam\"]),\n",
    "        \"lr\": trial.suggest_float(\"learning_rate\", 1e-6, 1e-2, log=True),\n",
    "        \"batch_size\": trial.suggest_categorical(\n",
    "            \"batch_size\", [256, 512, 1024]\n",
    "        ),\n",
    "    }\n",
    "\n",
    "    model = MLP(**hparams)\n",
    "\n",
    "    return model"
   ]
  },
  {
   "cell_type": "markdown",
   "metadata": {},
   "source": [
    "### Objective function\n",
    "\n"
   ]
  },
  {
   "cell_type": "markdown",
   "metadata": {},
   "source": [
    "The objective function will create an instance of the model (selecting a set of hyperparameters from the search space), train that model, and then compute and return a performance metric.\n",
    "\n"
   ]
  },
  {
   "cell_type": "code",
   "execution_count": null,
   "metadata": {},
   "outputs": [],
   "source": [
    "def objective_function(trial, dm):\n",
    "    model = create_model_instance(trial)\n",
    "\n",
    "    dm.setup(\"train\")\n",
    "    trainer = L.Trainer(max_epochs=model.hparams[\"max_epochs\"])\n",
    "    trainer.fit(model, dm)\n",
    "\n",
    "    X_true = dm.X_val\n",
    "    y_true = dm.y_val\n",
    "    y_true = dm.y_scaler.inverse_transform(y_true)\n",
    "\n",
    "    y_pred = model.predict(X_true)\n",
    "    y_pred = dm.y_scaler.inverse_transform(y_pred)\n",
    "\n",
    "    RMSE = model.RMSE(y_true, y_pred)\n",
    "\n",
    "    return RMSE"
   ]
  },
  {
   "cell_type": "markdown",
   "metadata": {},
   "source": [
    "Due to the way `optuna` works, the objective function must have only one argument. To meet this requirement, we create a partial objective function.\n",
    "\n"
   ]
  },
  {
   "cell_type": "code",
   "execution_count": null,
   "metadata": {},
   "outputs": [],
   "source": [
    "def partial_objective_function(trial):\n",
    "    return objective_function(trial, dm)"
   ]
  },
  {
   "cell_type": "markdown",
   "metadata": {},
   "source": [
    "### Searching\n",
    "\n"
   ]
  },
  {
   "cell_type": "markdown",
   "metadata": {},
   "source": [
    "The search starts by creating a study object&#x2026;\n",
    "\n"
   ]
  },
  {
   "cell_type": "code",
   "execution_count": null,
   "metadata": {},
   "outputs": [],
   "source": [
    "STUDY_NAME = \"Tg_model\"\n",
    "\n",
    "study = create_study(\n",
    "    study_name=STUDY_NAME,\n",
    "    storage=f\"sqlite:///{STUDY_NAME}.db\",\n",
    "    direction=\"minimize\",\n",
    "    load_if_exists=True,\n",
    ")"
   ]
  },
  {
   "cell_type": "markdown",
   "metadata": {},
   "source": [
    "&#x2026; and then running the `optimize` method. The number of trials is controlled by `n_trials`.\n",
    "\n"
   ]
  },
  {
   "cell_type": "code",
   "execution_count": null,
   "metadata": {},
   "outputs": [],
   "source": [
    "NUM_TRIALS = 10\n",
    "\n",
    "study.optimize(partial_objective_function, n_trials=NUM_TRIALS)"
   ]
  },
  {
   "cell_type": "markdown",
   "metadata": {},
   "source": [
    "### Investigating the result\n",
    "\n"
   ]
  },
  {
   "cell_type": "markdown",
   "metadata": {},
   "source": [
    "Let&rsquo;s examine the results.\n",
    "\n"
   ]
  },
  {
   "cell_type": "code",
   "execution_count": null,
   "metadata": {},
   "outputs": [],
   "source": [
    "df = study.trials_dataframe()\n",
    "\n",
    "df"
   ]
  },
  {
   "cell_type": "markdown",
   "metadata": {},
   "source": [
    "Let&rsquo;s check the best set of hyperparameters we found so far.\n",
    "\n"
   ]
  },
  {
   "cell_type": "code",
   "execution_count": null,
   "metadata": {},
   "outputs": [],
   "source": [
    "best_trial = study.best_trial\n",
    "\n",
    "print(f\"Number of best trial: {best_trial.number}\")\n",
    "print(f\"Parameters of best trial: {best_trial.params}\")"
   ]
  },
  {
   "cell_type": "markdown",
   "metadata": {},
   "source": [
    "If this is the end of the search, we can build a model with the winning HP set and check its performance.\n",
    "\n"
   ]
  },
  {
   "cell_type": "code",
   "execution_count": null,
   "metadata": {},
   "outputs": [],
   "source": [
    "model = create_model_instance(best_trial)\n",
    "trainer = L.Trainer(max_epochs=model.hparams[\"max_epochs\"])\n",
    "trainer.fit(model, dm)"
   ]
  },
  {
   "cell_type": "code",
   "execution_count": null,
   "metadata": {},
   "outputs": [],
   "source": [
    "dm.setup(\"test\")\n",
    "\n",
    "X_true = dm.X_test\n",
    "\n",
    "y_true = dm.y_test\n",
    "y_true = dm.y_scaler.inverse_transform(y_true)\n",
    "\n",
    "y_pred = model.predict(X_true)\n",
    "y_pred = dm.y_scaler.inverse_transform(y_pred)\n",
    "\n",
    "RMSE = model.RMSE(y_true, y_pred)\n",
    "\n",
    "print(RMSE)"
   ]
  },
  {
   "cell_type": "markdown",
   "metadata": {},
   "source": [
    "### Saving and loading\n",
    "\n"
   ]
  },
  {
   "cell_type": "code",
   "execution_count": null,
   "metadata": {},
   "outputs": [],
   "source": [
    "STATE_DICT = \"model.pth\"\n",
    "LEARNING_CURVE = \"learning_curve.p\"\n",
    "HPARAMS = \"hparams.p\"\n",
    "\n",
    "model.save_training(STATE_DICT, LEARNING_CURVE, HPARAMS)"
   ]
  },
  {
   "cell_type": "code",
   "execution_count": null,
   "metadata": {},
   "outputs": [],
   "source": [
    "loaded_model = MLP.from_file(HPARAMS, STATE_DICT, LEARNING_CURVE)"
   ]
  },
  {
   "cell_type": "code",
   "execution_count": null,
   "metadata": {},
   "outputs": [],
   "source": [
    "dm.setup(\"test\")\n",
    "\n",
    "X_true = dm.X_test\n",
    "\n",
    "y_true = dm.y_test\n",
    "y_true = dm.y_scaler.inverse_transform(y_true)\n",
    "\n",
    "y_pred = loaded_model.predict(X_true)\n",
    "y_pred = dm.y_scaler.inverse_transform(y_pred)\n",
    "\n",
    "RMSE = loaded_model.RMSE(y_true, y_pred)\n",
    "\n",
    "print(RMSE)"
   ]
  }
 ],
 "metadata": {
  "kernelspec": {
   "display_name": "Python 3",
   "language": "python",
   "name": "python3"
  },
  "language_info": {
   "codemirror_mode": {
    "name": "ipython",
    "version": 3
   },
   "file_extension": ".py",
   "mimetype": "text/x-python",
   "name": "python",
   "nbconvert_exporter": "python",
   "pygments_lexer": "ipython3",
   "version": "3.5.2"
  },
  "org": null
 },
 "nbformat": 4,
 "nbformat_minor": 4
}
