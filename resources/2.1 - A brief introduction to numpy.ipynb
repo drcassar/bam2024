{
 "cells": [
  {
   "cell_type": "markdown",
   "metadata": {},
   "source": [
    "A (very) brief introduction to Numpy\n",
    "====================================\n",
    "\n"
   ]
  },
  {
   "cell_type": "code",
   "execution_count": null,
   "metadata": {},
   "outputs": [],
   "source": [
    "import numpy as np"
   ]
  },
  {
   "cell_type": "markdown",
   "metadata": {},
   "source": [
    "## Lists are not vectors&#x2026; but arrays are!\n",
    "\n"
   ]
  },
  {
   "cell_type": "code",
   "execution_count": null,
   "metadata": {},
   "outputs": [],
   "source": [
    "my_list = [1, 2, 3]\n",
    "\n",
    "scalar_multiplication = my_list * 3\n",
    "\n",
    "print(scalar_multiplication)"
   ]
  },
  {
   "cell_type": "code",
   "execution_count": null,
   "metadata": {},
   "outputs": [],
   "source": [
    "list_multiplication = my_list * my_list  # will give an error\n",
    "\n",
    "print(list_multiplication)"
   ]
  },
  {
   "cell_type": "code",
   "execution_count": null,
   "metadata": {},
   "outputs": [],
   "source": [
    "my_array = np.array([1, 2, 3])\n",
    "\n",
    "scalar_multiplication = my_array * 3\n",
    "\n",
    "print(scalar_multiplication)"
   ]
  },
  {
   "cell_type": "code",
   "execution_count": null,
   "metadata": {},
   "outputs": [],
   "source": [
    "array_multiplication = my_array * my_array\n",
    "\n",
    "print(array_multiplication)"
   ]
  },
  {
   "cell_type": "code",
   "execution_count": null,
   "metadata": {},
   "outputs": [],
   "source": [
    "list_of_lists = [\n",
    "    [1, 2, 3],\n",
    "    [4, 5, 6],\n",
    "    [7, 8, 9],\n",
    "]\n",
    "\n",
    "array_2d = np.array(list_of_lists)\n",
    "\n",
    "print(array_2d)"
   ]
  },
  {
   "cell_type": "code",
   "execution_count": null,
   "metadata": {},
   "outputs": [],
   "source": [
    "matrix_multiplication = array_2d @ array_2d\n",
    "\n",
    "print(matrix_multiplication)"
   ]
  },
  {
   "cell_type": "markdown",
   "metadata": {},
   "source": [
    "## Some array attributes\n",
    "\n"
   ]
  },
  {
   "cell_type": "code",
   "execution_count": null,
   "metadata": {},
   "outputs": [],
   "source": [
    "print(array_2d.shape)"
   ]
  },
  {
   "cell_type": "code",
   "execution_count": null,
   "metadata": {},
   "outputs": [],
   "source": [
    "print(array_2d.ndim)"
   ]
  },
  {
   "cell_type": "code",
   "execution_count": null,
   "metadata": {},
   "outputs": [],
   "source": [
    "print(array_2d.dtype)"
   ]
  },
  {
   "cell_type": "markdown",
   "metadata": {},
   "source": [
    "## Other ways to create arrays\n",
    "\n"
   ]
  },
  {
   "cell_type": "code",
   "execution_count": null,
   "metadata": {},
   "outputs": [],
   "source": [
    "array1 = np.zeros(10)\n",
    "array2 = np.zeros((3, 4))\n",
    "\n",
    "array3 = np.ones(5)\n",
    "array4 = np.ones((2, 3))\n",
    "\n",
    "print(array1)\n",
    "print(array2)\n",
    "print(array3)\n",
    "print(array4)"
   ]
  },
  {
   "cell_type": "code",
   "execution_count": null,
   "metadata": {},
   "outputs": [],
   "source": [
    "array1 = np.arange(10)\n",
    "array2 = np.arange(10, 20)\n",
    "array3 = np.arange(0, 110, 10)\n",
    "array4 = np.arange(0, 1, 0.1)\n",
    "\n",
    "print(array1)\n",
    "print(array2)\n",
    "print(array3)\n",
    "print(array4)"
   ]
  },
  {
   "cell_type": "code",
   "execution_count": null,
   "metadata": {},
   "outputs": [],
   "source": [
    "array1 = np.linspace(0, 1, 101)\n",
    "array2 = np.linspace(0, 10, 5)\n",
    "array3 = np.linspace(0, 10)\n",
    "\n",
    "print(array1)\n",
    "print(array2)\n",
    "print(array3)"
   ]
  },
  {
   "cell_type": "code",
   "execution_count": null,
   "metadata": {},
   "outputs": [],
   "source": [
    "array1 = np.logspace(0, 10, 30)\n",
    "array2 = np.logspace(-5, 5, 15)\n",
    "array3 = np.logspace(0, 2)\n",
    "\n",
    "print(array1)\n",
    "print(array2)\n",
    "print(array3)"
   ]
  },
  {
   "cell_type": "code",
   "execution_count": null,
   "metadata": {},
   "outputs": [],
   "source": [
    "array_1d = np.random.random(10)\n",
    "array_2d_3x3 = np.random.random((3, 3))\n",
    "array_2d_5x4 = np.random.random((5, 4))\n",
    "\n",
    "print(array_1d)\n",
    "print(array_2d_3x3)\n",
    "print(array_2d_5x4)"
   ]
  },
  {
   "cell_type": "markdown",
   "metadata": {},
   "source": [
    "## Using common operators with arrays (elementwise)\n",
    "\n"
   ]
  },
  {
   "cell_type": "code",
   "execution_count": null,
   "metadata": {},
   "outputs": [],
   "source": [
    "array1 = np.array([1, 2, 3])\n",
    "array2 = np.array([4, 5, 6])\n",
    "\n",
    "print(array1 + array2)\n",
    "print(array1 - array2)\n",
    "print(array1 * array2)\n",
    "print(array1 / array2)\n",
    "print(array1 ** array2)"
   ]
  },
  {
   "cell_type": "markdown",
   "metadata": {},
   "source": [
    "## Applying functions to arrays (elementwise)\n",
    "\n"
   ]
  },
  {
   "cell_type": "code",
   "execution_count": null,
   "metadata": {},
   "outputs": [],
   "source": [
    "array = np.array([1, 2, 3])\n",
    "\n",
    "print(np.log(array))\n",
    "print(np.log10(array))\n",
    "print(np.exp(array))\n",
    "print(np.cos(array))\n",
    "print(np.sin(array))\n",
    "print(np.tan(array))\n",
    "print(np.sqrt(array))"
   ]
  },
  {
   "cell_type": "markdown",
   "metadata": {},
   "source": [
    "## Descriptive statistics\n",
    "\n"
   ]
  },
  {
   "cell_type": "code",
   "execution_count": null,
   "metadata": {},
   "outputs": [],
   "source": [
    "array = np.array([1, 2, 3, 4, 5, 6, 7, 8, 9])\n",
    "\n",
    "print(np.sum(array))\n",
    "print(np.min(array))\n",
    "print(np.max(array))\n",
    "print(np.mean(array))\n",
    "print(np.std(array, ddof=0))\n",
    "print(np.std(array, ddof=1))"
   ]
  },
  {
   "cell_type": "code",
   "execution_count": null,
   "metadata": {},
   "outputs": [],
   "source": [
    "array = np.array(\n",
    "    [[1, 2, 3],\n",
    "     [4, 5, 6],\n",
    "     [7, 8, 9],]\n",
    ")\n",
    "\n",
    "print(np.sum(array))\n",
    "print(np.min(array))\n",
    "print(np.max(array))\n",
    "print(np.mean(array))\n",
    "print(np.std(array, ddof=0))\n",
    "print(np.std(array, ddof=1))"
   ]
  },
  {
   "cell_type": "code",
   "execution_count": null,
   "metadata": {},
   "outputs": [],
   "source": [
    "array = np.array(\n",
    "    [[1, 2, 3],\n",
    "     [4, 5, 6],\n",
    "     [7, 8, 9],]\n",
    ")\n",
    "\n",
    "print(np.sum(array, axis=0))\n",
    "print(np.min(array, axis=0))\n",
    "print(np.max(array, axis=0))\n",
    "print(np.mean(array, axis=0))\n",
    "print(np.std(array, axis=0, ddof=0))\n",
    "print(np.std(array, axis=0, ddof=1))"
   ]
  },
  {
   "cell_type": "code",
   "execution_count": null,
   "metadata": {},
   "outputs": [],
   "source": [
    "array = np.array(\n",
    "    [[1, 2, 3],\n",
    "     [4, 5, 6],\n",
    "     [7, 8, 9],]\n",
    ")\n",
    "\n",
    "print(np.sum(array, axis=1))\n",
    "print(np.min(array, axis=1))\n",
    "print(np.max(array, axis=1))\n",
    "print(np.mean(array, axis=1))\n",
    "print(np.std(array, axis=1, ddof=0))\n",
    "print(np.std(array, axis=1, ddof=1))"
   ]
  },
  {
   "cell_type": "markdown",
   "metadata": {},
   "source": [
    "## Indexing arrays\n",
    "\n"
   ]
  },
  {
   "cell_type": "code",
   "execution_count": null,
   "metadata": {},
   "outputs": [],
   "source": [
    "array = np.array(\n",
    "    [[1, 2, 3],\n",
    "     [4, 5, 6],\n",
    "     [7, 8, 9],]\n",
    ")\n",
    "\n",
    "row_0 = array[0]\n",
    "row_1 = array[1]\n",
    "row_2 = array[2]\n",
    "\n",
    "rows_0_and_1 = array[:2]\n",
    "rows_1_and_2 = array[1:]\n",
    "\n",
    "row_0_column_0 = array[0][0]\n",
    "row_1_column_2 = array[1][2]\n",
    "\n",
    "print(row_0)\n",
    "print(row_1)\n",
    "print(row_2)\n",
    "print()\n",
    "print(rows_0_and_1)\n",
    "print(rows_1_and_2)\n",
    "print()\n",
    "print(row_0_column_0)\n",
    "print(row_1_column_2)"
   ]
  },
  {
   "cell_type": "code",
   "execution_count": null,
   "metadata": {},
   "outputs": [],
   "source": [
    "row_0_column_0 = array[0, 0]\n",
    "row_1_column_2 = array[1, 2]\n",
    "\n",
    "column_0 = array[:, 0]\n",
    "column_1 = array[:, 1]\n",
    "column_2 = array[:, 2]\n",
    "\n",
    "print(row_0_column_0)\n",
    "print(row_1_column_2)\n",
    "print()\n",
    "print(column_0)\n",
    "print(column_1)\n",
    "print(column_2)"
   ]
  },
  {
   "cell_type": "markdown",
   "metadata": {},
   "source": [
    "## Reshaping an array\n",
    "\n"
   ]
  },
  {
   "cell_type": "code",
   "execution_count": null,
   "metadata": {},
   "outputs": [],
   "source": [
    "array = np.array(\n",
    "    [[1, 2, 3],\n",
    "     [4, 5, 6],\n",
    "     [7, 8, 9],]\n",
    ")\n",
    "\n",
    "array_2 = array.reshape((1, 9))  # 1 row and 9 columns\n",
    "array_3 = array.reshape((9, 1))  # 9 rows and 1 column\n",
    "\n",
    "print(array)\n",
    "print(array_2)\n",
    "print(array_3)"
   ]
  },
  {
   "cell_type": "markdown",
   "metadata": {},
   "source": [
    "## Linear algedra\n",
    "\n"
   ]
  },
  {
   "cell_type": "code",
   "execution_count": null,
   "metadata": {},
   "outputs": [],
   "source": [
    "array = np.array(\n",
    "    [[1, 2, 3],\n",
    "     [4, 5, 6],\n",
    "     [7, 8, 9],]\n",
    ")\n",
    "\n",
    "print(array)\n",
    "print()\n",
    "print(array.T)"
   ]
  },
  {
   "cell_type": "code",
   "execution_count": null,
   "metadata": {},
   "outputs": [],
   "source": [
    "array = np.array(\n",
    "    [[5, 2, 3],\n",
    "     [4, 5, 6],\n",
    "     [7, 8, 5],]\n",
    ")\n",
    "\n",
    "determinant = np.linalg.det(array)\n",
    "inverse = np.linalg.inv(array)\n",
    "\n",
    "print(determinant)\n",
    "print()\n",
    "print(inverse)"
   ]
  }
 ],
 "metadata": {
  "kernelspec": {
   "display_name": "Python 3 (ipykernel)",
   "language": "python",
   "name": "python3"
  },
  "language_info": {
   "codemirror_mode": {
    "name": "ipython",
    "version": 3
   },
   "file_extension": ".py",
   "mimetype": "text/x-python",
   "name": "python",
   "nbconvert_exporter": "python",
   "pygments_lexer": "ipython3",
   "version": "3.10.12"
  },
  "org": null
 },
 "nbformat": 4,
 "nbformat_minor": 4
}
