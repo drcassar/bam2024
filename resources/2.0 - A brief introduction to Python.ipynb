{
 "cells": [
  {
   "cell_type": "markdown",
   "metadata": {},
   "source": [
    "A (very) brief introduction to Python\n",
    "=====================================\n",
    "\n"
   ]
  },
  {
   "cell_type": "markdown",
   "metadata": {},
   "source": [
    "## Some types of variables\n",
    "\n"
   ]
  },
  {
   "cell_type": "code",
   "execution_count": null,
   "metadata": {},
   "outputs": [],
   "source": [
    "integer = 10\n",
    "\n",
    "float_point = 3.14\n",
    "\n",
    "boolean = True\n",
    "\n",
    "list_of_items = [5, -2, 7, 19, 0]\n",
    "\n",
    "string = \"Hello, BAM!\"\n",
    "\n",
    "dictionary = {\n",
    "    \"key\": \"value\",\n",
    "    \"another key\": \"another value\",\n",
    "    \"yet another key\": 42,\n",
    "}"
   ]
  },
  {
   "cell_type": "markdown",
   "metadata": {},
   "source": [
    "Let&rsquo;s try using these variables.\n",
    "\n"
   ]
  },
  {
   "cell_type": "code",
   "execution_count": null,
   "metadata": {},
   "outputs": [],
   "source": []
  },
  {
   "cell_type": "markdown",
   "metadata": {},
   "source": [
    "## Some operators\n",
    "\n"
   ]
  },
  {
   "cell_type": "code",
   "execution_count": null,
   "metadata": {},
   "outputs": [],
   "source": [
    "addition = 10 + 5.1\n",
    "\n",
    "subtraction = 8 - 12\n",
    "\n",
    "multiplication = 1100 * 2\n",
    "\n",
    "division = 22 / 7\n",
    "\n",
    "exponentiation = 2 ** 8\n",
    "\n",
    "great_than = 10 > 5\n",
    "\n",
    "less_than = 100 < 10\n",
    "\n",
    "equals_to = integer == 10"
   ]
  },
  {
   "cell_type": "markdown",
   "metadata": {},
   "source": [
    "Let&rsquo;s see what happened.\n",
    "\n"
   ]
  },
  {
   "cell_type": "code",
   "execution_count": null,
   "metadata": {},
   "outputs": [],
   "source": []
  },
  {
   "cell_type": "markdown",
   "metadata": {},
   "source": [
    "## Conditionals\n",
    "\n"
   ]
  },
  {
   "cell_type": "markdown",
   "metadata": {},
   "source": [
    "**Note**: indenting is required in Python.\n",
    "\n"
   ]
  },
  {
   "cell_type": "code",
   "execution_count": null,
   "metadata": {},
   "outputs": [],
   "source": [
    "if addition > 11:\n",
    "    print(\"Inside the if statement\")\n",
    "else:\n",
    "    print(\"Inside the else statement\")"
   ]
  },
  {
   "cell_type": "code",
   "execution_count": null,
   "metadata": {},
   "outputs": [],
   "source": [
    "if addition > 11:\n",
    "    print(\"Inside the if statement\")\n",
    "elif 3.1415 > division:\n",
    "    print(\"Inside the first elif statement\")\n",
    "else:\n",
    "    print(\"Inside the else statement\")"
   ]
  },
  {
   "cell_type": "markdown",
   "metadata": {},
   "source": [
    "## Loops\n",
    "\n"
   ]
  },
  {
   "cell_type": "code",
   "execution_count": null,
   "metadata": {},
   "outputs": [],
   "source": [
    "for item in list_of_items:\n",
    "    print(\"The current item is:\", item)"
   ]
  },
  {
   "cell_type": "code",
   "execution_count": null,
   "metadata": {},
   "outputs": [],
   "source": [
    "for number in range(10):\n",
    "    print(\"The current number is:\", number)"
   ]
  },
  {
   "cell_type": "code",
   "execution_count": null,
   "metadata": {},
   "outputs": [],
   "source": [
    "acc = 0\n",
    "\n",
    "while acc < 10:\n",
    "\n",
    "    if acc == 0:\n",
    "        print(f\"Here we go! ({acc})\")\n",
    "    else:\n",
    "        print(f\"Here we go again! ({acc})\")\n",
    "\n",
    "    acc = acc + 1"
   ]
  },
  {
   "cell_type": "markdown",
   "metadata": {},
   "source": [
    "## Functions\n",
    "\n"
   ]
  },
  {
   "cell_type": "code",
   "execution_count": null,
   "metadata": {},
   "outputs": [],
   "source": [
    "def my_function(argument1, argument2):\n",
    "    result = (argument1 + argument2) / 2\n",
    "    return result\n",
    "\n",
    "my_function(10, 5)"
   ]
  },
  {
   "cell_type": "code",
   "execution_count": null,
   "metadata": {},
   "outputs": [],
   "source": [
    "my_function(argument1=10, argument2=5)"
   ]
  },
  {
   "cell_type": "markdown",
   "metadata": {},
   "source": [
    "There are some build-in functions.\n",
    "\n"
   ]
  },
  {
   "cell_type": "code",
   "execution_count": null,
   "metadata": {},
   "outputs": [],
   "source": [
    "print(len(list_of_items))\n",
    "\n",
    "print(sum(list_of_items))\n",
    "\n",
    "print(sorted(list_of_items))"
   ]
  },
  {
   "cell_type": "markdown",
   "metadata": {},
   "source": [
    "## Atributes and methods\n",
    "\n"
   ]
  },
  {
   "cell_type": "code",
   "execution_count": null,
   "metadata": {},
   "outputs": [],
   "source": [
    "dir(list_of_items)"
   ]
  },
  {
   "cell_type": "code",
   "execution_count": null,
   "metadata": {},
   "outputs": [],
   "source": [
    "list_of_items.append(\"new item\")\n",
    "\n",
    "list_of_items"
   ]
  }
 ],
 "metadata": {
  "kernelspec": {
   "display_name": "Python 3 (ipykernel)",
   "language": "python",
   "name": "python3"
  },
  "language_info": {
   "codemirror_mode": {
    "name": "ipython",
    "version": 3
   },
   "file_extension": ".py",
   "mimetype": "text/x-python",
   "name": "python",
   "nbconvert_exporter": "python",
   "pygments_lexer": "ipython3",
   "version": "3.10.12"
  },
  "org": null
 },
 "nbformat": 4,
 "nbformat_minor": 4
}
