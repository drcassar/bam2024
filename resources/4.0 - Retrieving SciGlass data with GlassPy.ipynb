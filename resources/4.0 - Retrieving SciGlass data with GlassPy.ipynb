{
 "cells": [
  {
   "cell_type": "markdown",
   "metadata": {},
   "source": [
    "Retrieving SciGlass data with GlassPy\n",
    "=====================================\n",
    "\n"
   ]
  },
  {
   "cell_type": "code",
   "execution_count": null,
   "metadata": {},
   "outputs": [],
   "source": [
    "!pip install glasspy"
   ]
  },
  {
   "cell_type": "markdown",
   "metadata": {},
   "source": [
    "## Introduction\n",
    "\n"
   ]
  },
  {
   "cell_type": "markdown",
   "metadata": {},
   "source": [
    "GlassPy can load experimental data. Currently, GlassPy has the SciGlass database as an available data source. All data loading procedures are managed in the `glasspy.data` submodule.\n",
    "\n"
   ]
  },
  {
   "cell_type": "markdown",
   "metadata": {},
   "source": [
    "## Basic usage\n",
    "\n"
   ]
  },
  {
   "cell_type": "markdown",
   "metadata": {},
   "source": [
    "Below is a minimal example of loading SciGlass data into a Pandas DataFrame, this is done by creating an instance of the `SciGlass` class and then accessing the `data` property. Without any arguments, the `SciGlass` class will load all available data and metadata. This process takes a while because it needs to load and parse the original SciGlass database.\n",
    "\n"
   ]
  },
  {
   "cell_type": "code",
   "execution_count": null,
   "metadata": {},
   "outputs": [],
   "source": [
    "from glasspy.data import SciGlass, sciglass_dbinfo\n",
    "\n",
    "source = SciGlass()\n",
    "df = source.data"
   ]
  },
  {
   "cell_type": "markdown",
   "metadata": {},
   "source": [
    "When it is done, we can check what we have.\n",
    "\n"
   ]
  },
  {
   "cell_type": "code",
   "execution_count": null,
   "metadata": {},
   "outputs": [],
   "source": [
    "df"
   ]
  },
  {
   "cell_type": "markdown",
   "metadata": {},
   "source": [
    "To avoid naming conflicts and to make it easier to navigate through the DataFrame, the data is structured in two levels. In the first level, we have information grouped by composition, property, or metadata.\n",
    "\n"
   ]
  },
  {
   "cell_type": "code",
   "execution_count": null,
   "metadata": {},
   "outputs": [],
   "source": [
    "print(df.columns.levels[0])"
   ]
  },
  {
   "cell_type": "markdown",
   "metadata": {},
   "source": [
    "If you want to explore the elemental composition of the glasses, you can do so by filtering only the data in the `elements` group.\n",
    "\n"
   ]
  },
  {
   "cell_type": "code",
   "execution_count": null,
   "metadata": {},
   "outputs": [],
   "source": [
    "els = df[\"elements\"]\n",
    "els"
   ]
  },
  {
   "cell_type": "markdown",
   "metadata": {},
   "source": [
    "Suppose you want to explore the glass transition temperature data. You can do this by first accessing the `property` group and then the `Tg` column.\n",
    "\n"
   ]
  },
  {
   "cell_type": "code",
   "execution_count": null,
   "metadata": {},
   "outputs": [],
   "source": [
    "Tg = df[\"property\"][\"Tg\"]\n",
    "Tg"
   ]
  },
  {
   "cell_type": "markdown",
   "metadata": {},
   "source": [
    "As expected, not all entries have a glass transition temperature value.\n",
    "\n",
    "To list all available properties in GlassPy, call the `sciglass_dbinfo` function.\n",
    "\n"
   ]
  },
  {
   "cell_type": "code",
   "execution_count": null,
   "metadata": {},
   "outputs": [],
   "source": [
    "sciglass_dbinfo()"
   ]
  },
  {
   "cell_type": "markdown",
   "metadata": {},
   "source": [
    "See the `pandas` [documentation](https://pandas.pydata.org/docs/) for more information on what you can do with DataFrames.\n",
    "\n"
   ]
  },
  {
   "cell_type": "markdown",
   "metadata": {},
   "source": [
    "## Controlling initial data collection\n",
    "\n"
   ]
  },
  {
   "cell_type": "markdown",
   "metadata": {},
   "source": [
    "It takes a while to load all SciGlass data. It may be better to load only what you really need. You can control what to load with configuration dictionaries.\n",
    "\n",
    "For example, suppose you don&rsquo;t want glasses with silver or gold in their composition. You can easily remove glasses with these elements using the `dropline` configuration.\n",
    "\n"
   ]
  },
  {
   "cell_type": "code",
   "execution_count": null,
   "metadata": {},
   "outputs": [],
   "source": [
    "config_el = {\n",
    "    \"dropline\": [\"Ag\", \"Au\"],\n",
    "}\n",
    "\n",
    "source = SciGlass(\n",
    "    elements_cfg=config_el,\n",
    ")\n",
    "\n",
    "df = source.data\n",
    "df"
   ]
  },
  {
   "cell_type": "markdown",
   "metadata": {},
   "source": [
    "Suppose you are only interested in glasses that have a glass transition temperature and refractive index values. You can use the `must_have_and` configuration to filter the data to only those with those two properties.\n",
    "\n"
   ]
  },
  {
   "cell_type": "code",
   "execution_count": null,
   "metadata": {},
   "outputs": [],
   "source": [
    "config_prop = {\n",
    "    \"must_have_and\": [\"Tg\", \"RefractiveIndex\"],\n",
    "}\n",
    "\n",
    "source = SciGlass(\n",
    "    properties_cfg=config_prop,\n",
    ")\n",
    "\n",
    "df = source.data\n",
    "df"
   ]
  },
  {
   "cell_type": "markdown",
   "metadata": {},
   "source": [
    "Of course, you can mix two or more filters in the same query. Let&rsquo;s mix the two filters we used earlier.\n",
    "\n"
   ]
  },
  {
   "cell_type": "code",
   "execution_count": null,
   "metadata": {},
   "outputs": [],
   "source": [
    "config_el = {\n",
    "    \"dropline\": [\"Ag\", \"Au\"],\n",
    "}\n",
    "\n",
    "config_prop = {\n",
    "    \"must_have_and\": [\"Tg\", \"RefractiveIndex\"],\n",
    "}\n",
    "\n",
    "source = SciGlass(\n",
    "    elements_cfg=config_el,\n",
    "    properties_cfg=config_prop,\n",
    ")\n",
    "\n",
    "df = source.data\n",
    "df"
   ]
  },
  {
   "cell_type": "markdown",
   "metadata": {},
   "source": [
    "See the [documentation](https://glasspy.readthedocs.io/en/latest/modules/glasspy.data.html#glasspy.data.load.SciGlass) for the `SciGlass` class for more information on how to control your initial data collection.\n",
    "\n"
   ]
  },
  {
   "cell_type": "markdown",
   "metadata": {},
   "source": [
    "## Some query examples\n",
    "\n"
   ]
  },
  {
   "cell_type": "markdown",
   "metadata": {},
   "source": [
    "Below are some examples that show strategies for controlling the `SciGlass` query. You can combine more than one option when querying the data.\n",
    "\n"
   ]
  },
  {
   "cell_type": "markdown",
   "metadata": {},
   "source": [
    "### Return the composition in wt%\n",
    "\n"
   ]
  },
  {
   "cell_type": "code",
   "execution_count": null,
   "metadata": {},
   "outputs": [],
   "source": [
    "config_el = {}  # do this if you don't want the elemental columns\n",
    "\n",
    "config_prop = {\n",
    "    \"must_have_and\": [\"Tg\", \"RefractiveIndex\"],\n",
    "}\n",
    "\n",
    "config_comp = {\n",
    "    \"return_weight\": True,\n",
    "}\n",
    "\n",
    "source = SciGlass(\n",
    "    elements_cfg=config_el,\n",
    "    properties_cfg=config_prop,\n",
    "    compounds_cfg=config_comp,\n",
    ")\n",
    "\n",
    "df = source.data\n",
    "df"
   ]
  },
  {
   "cell_type": "markdown",
   "metadata": {},
   "source": [
    "### Remove compounds with specific chemical elements\n",
    "\n"
   ]
  },
  {
   "cell_type": "code",
   "execution_count": null,
   "metadata": {},
   "outputs": [],
   "source": [
    "config_el = {}\n",
    "\n",
    "config_comp = {\n",
    "    \"drop_compound_with_element\": [\"Ca\", \"Li\", \"K\"],\n",
    "}\n",
    "\n",
    "source = SciGlass(\n",
    "    elements_cfg=config_el,\n",
    "    compounds_cfg=config_comp,\n",
    ")\n",
    "\n",
    "df = source.data\n",
    "df"
   ]
  },
  {
   "cell_type": "markdown",
   "metadata": {},
   "source": [
    "### Make the composition of a glass sum to 100% instead of 1\n",
    "\n"
   ]
  },
  {
   "cell_type": "code",
   "execution_count": null,
   "metadata": {},
   "outputs": [],
   "source": [
    "config_el = {}\n",
    "\n",
    "config_comp = {\n",
    "    \"final_sum\": 100,\n",
    "}\n",
    "\n",
    "source = SciGlass(\n",
    "    elements_cfg=config_el,\n",
    "    compounds_cfg=config_comp,\n",
    ")\n",
    "\n",
    "df = source.data\n",
    "df"
   ]
  },
  {
   "cell_type": "markdown",
   "metadata": {},
   "source": [
    "### Compounds that must be present (OR logic)\n",
    "\n"
   ]
  },
  {
   "cell_type": "code",
   "execution_count": null,
   "metadata": {},
   "outputs": [],
   "source": [
    "config_el = {}\n",
    "\n",
    "config_comp = {\n",
    "    \"must_have_or\": [\"SiO2\", \"Na2O\", \"Al2O3\"],\n",
    "}\n",
    "\n",
    "source = SciGlass(\n",
    "    elements_cfg=config_el,\n",
    "    compounds_cfg=config_comp,\n",
    ")\n",
    "\n",
    "df = source.data\n",
    "df"
   ]
  },
  {
   "cell_type": "markdown",
   "metadata": {},
   "source": [
    "### Compounds that must be present (AND logic)\n",
    "\n"
   ]
  },
  {
   "cell_type": "code",
   "execution_count": null,
   "metadata": {},
   "outputs": [],
   "source": [
    "config_el = {}\n",
    "\n",
    "config_comp = {\n",
    "    \"must_have_and\": [\"SiO2\", \"Na2O\", \"Al2O3\"],\n",
    "}\n",
    "\n",
    "source = SciGlass(\n",
    "    elements_cfg=config_el,\n",
    "    compounds_cfg=config_comp,\n",
    ")\n",
    "\n",
    "df = source.data\n",
    "df"
   ]
  },
  {
   "cell_type": "markdown",
   "metadata": {},
   "source": [
    "## Converting compounds to elements\n",
    "\n"
   ]
  },
  {
   "cell_type": "markdown",
   "metadata": {},
   "source": [
    "If you have queried the SciGlass database for compounds only, you can easily convert this information to atomic fraction using the `elements_from_compounds` method.\n",
    "\n"
   ]
  },
  {
   "cell_type": "code",
   "execution_count": null,
   "metadata": {},
   "outputs": [],
   "source": [
    "source.elements_from_compounds(\n",
    "    final_sum=1,\n",
    "    compounds_in_weight=False,\n",
    ")\n",
    "\n",
    "df = source.data\n",
    "df"
   ]
  },
  {
   "cell_type": "markdown",
   "metadata": {},
   "source": [
    "## Remove duplicate entries\n",
    "\n"
   ]
  },
  {
   "cell_type": "markdown",
   "metadata": {},
   "source": [
    "Entries with the same chemical composition can cause data leakage in machine learning pipelines. An easy way to fix this is to use the `remove_duplicate_composition` method.\n",
    "\n"
   ]
  },
  {
   "cell_type": "code",
   "execution_count": null,
   "metadata": {},
   "outputs": [],
   "source": [
    "source.remove_duplicate_composition(\n",
    "    scope=\"elements\",\n",
    "    decimals=3,\n",
    "    aggregator=\"median\",\n",
    ")\n",
    "\n",
    "df = source.data\n",
    "df"
   ]
  }
 ],
 "metadata": {
  "kernelspec": {
   "display_name": "Python 3",
   "language": "python",
   "name": "python3"
  },
  "language_info": {
   "codemirror_mode": {
    "name": "ipython",
    "version": 3
   },
   "file_extension": ".py",
   "mimetype": "text/x-python",
   "name": "python",
   "nbconvert_exporter": "python",
   "pygments_lexer": "ipython3",
   "version": "3.5.2"
  },
  "org": null
 },
 "nbformat": 4,
 "nbformat_minor": 4
}
