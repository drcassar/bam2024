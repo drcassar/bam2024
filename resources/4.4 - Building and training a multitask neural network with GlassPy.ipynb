{
 "cells": [
  {
   "cell_type": "markdown",
   "metadata": {},
   "source": [
    "Building and training a multitask neural network with GlassPy\n",
    "=============================================================\n",
    "\n"
   ]
  },
  {
   "cell_type": "code",
   "execution_count": null,
   "metadata": {},
   "outputs": [],
   "source": [
    "!pip install glasspy"
   ]
  },
  {
   "cell_type": "markdown",
   "metadata": {},
   "source": [
    "## Introduction\n",
    "\n"
   ]
  },
  {
   "cell_type": "markdown",
   "metadata": {},
   "source": [
    "In this notebook we will create and train a multitask neural network. This is a neural network that can predict more than one target. The procedure is very similar to what we did in the previous notebook.\n",
    "\n"
   ]
  },
  {
   "cell_type": "markdown",
   "metadata": {},
   "source": [
    "## Imports\n",
    "\n"
   ]
  },
  {
   "cell_type": "code",
   "execution_count": null,
   "metadata": {},
   "outputs": [],
   "source": [
    "import torch\n",
    "import lightning as L\n",
    "import numpy as np\n",
    "from sklearn.model_selection import train_test_split\n",
    "from glasspy.data import SciGlass\n",
    "from sklearn.preprocessing import MaxAbsScaler\n",
    "from torch.utils.data import DataLoader, TensorDataset\n",
    "from glasspy.predict.base import MTL"
   ]
  },
  {
   "cell_type": "markdown",
   "metadata": {},
   "source": [
    "## Data pipeline\n",
    "\n"
   ]
  },
  {
   "cell_type": "markdown",
   "metadata": {},
   "source": [
    "Again we need to collect, process and split the data, similar to the previous notebook. This time we will create a model to predict the density and refractive index.\n",
    "\n"
   ]
  },
  {
   "cell_type": "markdown",
   "metadata": {},
   "source": [
    "### Collecting the data\n",
    "\n"
   ]
  },
  {
   "cell_type": "code",
   "execution_count": null,
   "metadata": {},
   "outputs": [],
   "source": [
    "config_prop = {\n",
    "    \"must_have_or\": [\"Density293K\", \"RefractiveIndex\"],\n",
    "}\n",
    "\n",
    "config_comp = {\n",
    "    \"must_have_only\": [\n",
    "        \"SiO2\",\n",
    "        \"Li2O\",\n",
    "        \"Na2O\",\n",
    "        \"K2O\",\n",
    "        \"CaO\",\n",
    "        \"MgO\",\n",
    "        \"BaO\",\n",
    "        \"Al2O3\",\n",
    "        \"TiO2\",\n",
    "    ],\n",
    "}\n",
    "\n",
    "source = SciGlass(\n",
    "    elements_cfg={},\n",
    "    properties_cfg=config_prop,\n",
    "    compounds_cfg=config_comp,\n",
    ")\n",
    "\n",
    "source.remove_duplicate_composition(\n",
    "    scope=\"compounds\",\n",
    "    decimals=3,\n",
    "    aggregator=\"median\",\n",
    ")\n",
    "\n",
    "df = source.data\n",
    "\n",
    "df[\"property\"].info()"
   ]
  },
  {
   "cell_type": "code",
   "execution_count": null,
   "metadata": {},
   "outputs": [],
   "source": [
    "idx = df.index\n",
    "\n",
    "X = df[\"compounds\"]\n",
    "y = df[\"property\"][[\"Density293K\", \"RefractiveIndex\"]]"
   ]
  },
  {
   "cell_type": "markdown",
   "metadata": {},
   "source": [
    "### Splitting the data\n",
    "\n"
   ]
  },
  {
   "cell_type": "code",
   "execution_count": null,
   "metadata": {},
   "outputs": [],
   "source": [
    "TEST_SIZE = 0.1\n",
    "RANDOM_SEED = 61455"
   ]
  },
  {
   "cell_type": "code",
   "execution_count": null,
   "metadata": {},
   "outputs": [],
   "source": [
    "indices = df.index\n",
    "train_val_idx, test_idx = train_test_split(\n",
    "    indices, test_size=TEST_SIZE, random_state=RANDOM_SEED\n",
    ")\n",
    "\n",
    "X_train_val = X.loc[train_val_idx]\n",
    "y_train_val = y.loc[train_val_idx]\n",
    "\n",
    "X_test = X.loc[test_idx].values\n",
    "y_test = y.loc[test_idx].values"
   ]
  },
  {
   "cell_type": "code",
   "execution_count": null,
   "metadata": {},
   "outputs": [],
   "source": [
    "train_idx, val_idx = train_test_split(\n",
    "    train_val_idx, test_size=TEST_SIZE, random_state=RANDOM_SEED\n",
    ")\n",
    "\n",
    "X_train = X.loc[train_idx].values\n",
    "y_train = y.loc[train_idx].values\n",
    "\n",
    "X_val = X.loc[val_idx].values\n",
    "y_val = y.loc[val_idx].values"
   ]
  },
  {
   "cell_type": "markdown",
   "metadata": {},
   "source": [
    "### Normalization\n",
    "\n"
   ]
  },
  {
   "cell_type": "code",
   "execution_count": null,
   "metadata": {},
   "outputs": [],
   "source": [
    "x_scaler = MaxAbsScaler()\n",
    "x_scaler.fit(X_train)\n",
    "\n",
    "y_scaler = MaxAbsScaler()\n",
    "y_scaler.fit(y_train)\n",
    "\n",
    "X_train = x_scaler.transform(X_train)\n",
    "y_train = y_scaler.transform(y_train)\n",
    "\n",
    "X_val = x_scaler.transform(X_val)\n",
    "y_val = y_scaler.transform(y_val)\n",
    "\n",
    "X_test = x_scaler.transform(X_test)\n",
    "y_test = y_scaler.transform(y_test)"
   ]
  },
  {
   "cell_type": "code",
   "execution_count": null,
   "metadata": {},
   "outputs": [],
   "source": [
    "X_train = torch.tensor(X_train, dtype=torch.float32)\n",
    "y_train = torch.tensor(y_train, dtype=torch.float32)\n",
    "\n",
    "X_val = torch.tensor(X_val, dtype=torch.float32)\n",
    "y_val = torch.tensor(y_val, dtype=torch.float32)\n",
    "\n",
    "X_test = torch.tensor(X_test, dtype=torch.float32)\n",
    "y_test = torch.tensor(y_test, dtype=torch.float32)"
   ]
  },
  {
   "cell_type": "markdown",
   "metadata": {},
   "source": [
    "### The DataModule class\n",
    "\n"
   ]
  },
  {
   "cell_type": "code",
   "execution_count": null,
   "metadata": {},
   "outputs": [],
   "source": [
    "class DataModule(L.LightningDataModule):\n",
    "    def __init__(\n",
    "        self,\n",
    "        X_train,\n",
    "        y_train,\n",
    "        X_val,\n",
    "        y_val,\n",
    "        X_test,\n",
    "        y_test,\n",
    "        x_scaler=None,\n",
    "        y_scaler=None,\n",
    "        batch_size = 256,\n",
    "        num_workers = 2,\n",
    "    ):\n",
    "        super().__init__()\n",
    "\n",
    "        self.batch_size = batch_size\n",
    "        self.num_workers = num_workers\n",
    "\n",
    "        self.X_train = X_train\n",
    "        self.y_train = y_train\n",
    "        self.X_val = X_val\n",
    "        self.y_val = y_val\n",
    "        self.X_test = X_test\n",
    "        self.y_test = y_test\n",
    "        self.x_scaler = x_scaler\n",
    "        self.y_scaler = y_scaler\n",
    "\n",
    "\n",
    "    def train_dataloader(self):\n",
    "        return DataLoader(\n",
    "            TensorDataset(self.X_train, self.y_train),\n",
    "            batch_size=self.batch_size,\n",
    "            num_workers=self.num_workers,\n",
    "        )\n",
    "\n",
    "    def val_dataloader(self):\n",
    "        return DataLoader(\n",
    "            TensorDataset(self.X_val, self.y_val),\n",
    "            batch_size=self.batch_size,\n",
    "            num_workers=self.num_workers,\n",
    "        )\n",
    "\n",
    "    def test_dataloader(self):\n",
    "        return DataLoader(\n",
    "            TensorDataset(self.X_test, self.y_test),\n",
    "            batch_size=self.batch_size,\n",
    "            num_workers=self.num_workers,\n",
    "        )"
   ]
  },
  {
   "cell_type": "code",
   "execution_count": null,
   "metadata": {},
   "outputs": [],
   "source": [
    "dm = DataModule(\n",
    "    X_train, y_train, X_val, y_val, X_test, y_test, x_scaler, y_scaler\n",
    ")"
   ]
  },
  {
   "cell_type": "markdown",
   "metadata": {},
   "source": [
    "## Neural network\n",
    "\n"
   ]
  },
  {
   "cell_type": "code",
   "execution_count": null,
   "metadata": {},
   "outputs": [],
   "source": [
    "NUM_EPOCHS = 20\n",
    "num_features = X.shape[1]\n",
    "num_targets = y.shape[1]\n",
    "\n",
    "hparams = {\n",
    "    \"batch_size\": 256,\n",
    "    \"layer_1_activation\": \"Sigmoid\",\n",
    "    \"layer_1_size\": 3,\n",
    "    \"layer_2_activation\": \"Sigmoid\",\n",
    "    \"layer_2_size\": 2,\n",
    "    \"loss\": \"mse\",\n",
    "    \"max_epochs\": NUM_EPOCHS,\n",
    "    \"n_features\": num_features,\n",
    "    \"n_targets\": num_targets,\n",
    "    \"num_layers\": 2,\n",
    "    \"optimizer\": \"SGD\",\n",
    "}"
   ]
  },
  {
   "cell_type": "code",
   "execution_count": null,
   "metadata": {},
   "outputs": [],
   "source": [
    "my_mtl = MTL(hparams)"
   ]
  },
  {
   "cell_type": "markdown",
   "metadata": {},
   "source": [
    "### Training the neural network\n",
    "\n"
   ]
  },
  {
   "cell_type": "code",
   "execution_count": null,
   "metadata": {},
   "outputs": [],
   "source": [
    "trainer = L.Trainer(max_epochs=NUM_EPOCHS)"
   ]
  },
  {
   "cell_type": "code",
   "execution_count": null,
   "metadata": {},
   "outputs": [],
   "source": [
    "trainer.fit(my_mtl, dm)"
   ]
  },
  {
   "cell_type": "markdown",
   "metadata": {},
   "source": [
    "### Testing the neural network\n",
    "\n"
   ]
  },
  {
   "cell_type": "code",
   "execution_count": null,
   "metadata": {},
   "outputs": [],
   "source": [
    "dm.setup(\"test\")\n",
    "\n",
    "X_true = dm.X_test\n",
    "\n",
    "y_true = dm.y_test\n",
    "y_true = dm.y_scaler.inverse_transform(y_true)\n",
    "\n",
    "y_pred = my_mtl.predict(X_true)\n",
    "y_pred = dm.y_scaler.inverse_transform(y_pred)\n",
    "\n",
    "RMSE_density, RMSE_refractiveindex = my_mtl.RMSE(y_true, y_pred)\n",
    "\n",
    "print(RMSE_density)\n",
    "print(RMSE_refractiveindex)"
   ]
  },
  {
   "cell_type": "markdown",
   "metadata": {},
   "source": [
    "### Saving the model\n",
    "\n"
   ]
  },
  {
   "cell_type": "code",
   "execution_count": null,
   "metadata": {},
   "outputs": [],
   "source": [
    "STATE_DICT = \"model.pth\"\n",
    "LEARNING_CURVE = \"learning_curve.p\"\n",
    "HPARAMS = \"hparams.p\""
   ]
  },
  {
   "cell_type": "code",
   "execution_count": null,
   "metadata": {},
   "outputs": [],
   "source": [
    "my_mtl.save_training(STATE_DICT, LEARNING_CURVE, HPARAMS)"
   ]
  },
  {
   "cell_type": "code",
   "execution_count": null,
   "metadata": {},
   "outputs": [],
   "source": [
    "loaded_model = MTL.from_file(HPARAMS, STATE_DICT, LEARNING_CURVE)"
   ]
  },
  {
   "cell_type": "code",
   "execution_count": null,
   "metadata": {},
   "outputs": [],
   "source": [
    "dm.setup(\"test\")\n",
    "\n",
    "X_true = dm.X_test\n",
    "\n",
    "y_true = dm.y_test\n",
    "y_true = dm.y_scaler.inverse_transform(y_true)\n",
    "\n",
    "y_pred = loaded_model.predict(X_true)\n",
    "y_pred = dm.y_scaler.inverse_transform(y_pred)\n",
    "\n",
    "RMSE_density, RMSE_refractiveindex = loaded_model.RMSE(y_true, y_pred)\n",
    "\n",
    "print(RMSE_density)\n",
    "print(RMSE_refractiveindex)"
   ]
  }
 ],
 "metadata": {
  "kernelspec": {
   "display_name": "Python 3",
   "language": "python",
   "name": "python3"
  },
  "language_info": {
   "codemirror_mode": {
    "name": "ipython",
    "version": 3
   },
   "file_extension": ".py",
   "mimetype": "text/x-python",
   "name": "python",
   "nbconvert_exporter": "python",
   "pygments_lexer": "ipython3",
   "version": "3.5.2"
  },
  "org": null
 },
 "nbformat": 4,
 "nbformat_minor": 4
}
