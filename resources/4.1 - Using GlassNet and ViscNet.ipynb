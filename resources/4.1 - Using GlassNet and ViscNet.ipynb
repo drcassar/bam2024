{
 "cells": [
  {
   "cell_type": "markdown",
   "metadata": {},
   "source": [
    "Using GlassNet and ViscNet\n",
    "==========================\n",
    "\n"
   ]
  },
  {
   "cell_type": "code",
   "execution_count": null,
   "metadata": {},
   "outputs": [],
   "source": [
    "!pip install glasspy"
   ]
  },
  {
   "cell_type": "markdown",
   "metadata": {},
   "source": [
    "## Introduction\n",
    "\n"
   ]
  },
  {
   "cell_type": "markdown",
   "metadata": {},
   "source": [
    "`GlassPy` contains two predictive models: `GlassNet` and `ViscNet`. GlassNet is a multitask deep neural network capable of predicting 85 different glass properties and the temperature dependence of viscosity. ViscNet is a physics-informed deep neural network capable of predicting the temperature dependence of viscosity. Both models were trained with data from the SciGlass database. For more information about the models, check their original references.\n",
    "\n",
    "**Reference for GlassNet**: Cassar, D.R. (2023). GlassNet: A multitask deep neural network for predicting many glass properties. Ceramics International 49, 36013–36024. [https://doi.org/10.1016/j.ceramint.2023.08.281](https://doi.org/10.1016/j.ceramint.2023.08.281).\n",
    "\n",
    "**Reference for ViscNet**: Cassar, D.R. (2021). ViscNet: Neural network for predicting the fragility index and the temperature-dependency of viscosity. Acta Materialia 206, 116602. [https://doi.org/10.1016/j.actamat.2020.116602](https://doi.org/10.1016/j.actamat.2020.116602).\n",
    "\n"
   ]
  },
  {
   "cell_type": "markdown",
   "metadata": {},
   "source": [
    "## GlassNet basic usage\n",
    "\n"
   ]
  },
  {
   "cell_type": "markdown",
   "metadata": {},
   "source": [
    "Below is a minimal example on how to load and use the GlassNet model to predict the properties of Li<sub>2</sub>O.2SiO<sub>2</sub>. GlassNet accepts the composition as a string, as long as the string follows the parsing rules of [chemparse](https://github.com/gmboyer/chemparse).\n",
    "\n"
   ]
  },
  {
   "cell_type": "code",
   "execution_count": null,
   "metadata": {},
   "outputs": [],
   "source": [
    "from glasspy.predict import GlassNet\n",
    "\n",
    "model = GlassNet()\n",
    "composition = \"Li2O(SiO2)2\"\n",
    "predictions = model.predict(composition)\n",
    "predictions"
   ]
  },
  {
   "cell_type": "markdown",
   "metadata": {},
   "source": [
    "For convenience/readability, a composition can also be defined using a dictionary.\n",
    "\n"
   ]
  },
  {
   "cell_type": "code",
   "execution_count": null,
   "metadata": {},
   "outputs": [],
   "source": [
    "composition = {\n",
    "    \"SiO2\": 2,\n",
    "    \"Li2O\": 1,\n",
    "}\n",
    "predictions = model.predict(composition)\n",
    "predictions"
   ]
  },
  {
   "cell_type": "markdown",
   "metadata": {},
   "source": [
    "GlassNet also accepts `pandas` DataFrames as input. Note that each row\n",
    "represents a material and that only columns related to compositions can\n",
    "exist in the DataFrame. The columns must contain valid [chemparse](https://github.com/gmboyer/chemparse) strings.\n",
    "\n"
   ]
  },
  {
   "cell_type": "code",
   "execution_count": null,
   "metadata": {},
   "outputs": [],
   "source": [
    "import pandas as pd\n",
    "\n",
    "data = [\n",
    "    [1, 0, 2],\n",
    "    [0, 1, 2],\n",
    "    [1, 1, 2],\n",
    "]\n",
    "\n",
    "df = pd.DataFrame(data, columns=[\"Li2O\", \"Na2O\", \"SiO2\"])\n",
    "df"
   ]
  },
  {
   "cell_type": "code",
   "execution_count": null,
   "metadata": {},
   "outputs": [],
   "source": [
    "predictions = model.predict(df)\n",
    "predictions"
   ]
  },
  {
   "cell_type": "markdown",
   "metadata": {},
   "source": [
    "GlassNet can also predict viscosity and the MYEGA viscosity equation\n",
    "parameters.\n",
    "\n",
    "**Reference for the MYEGA equation**: Mauro, J.C., Yue, Y., Ellison, A.J., Gupta, P.K., and Allan, D.C. (2009). Viscosity of glass-forming liquids. Proceedings of the National Academy of Sciences of the United States of America 106, 19780–19784. [https://doi.org/10.1073/pnas.0911705106](https://doi.org/10.1073/pnas.0911705106).\n",
    "\n"
   ]
  },
  {
   "cell_type": "code",
   "execution_count": null,
   "metadata": {},
   "outputs": [],
   "source": [
    "predictions = model.predict_log10_viscosity(\n",
    "    T=1000,\n",
    "    composition=df,\n",
    ")\n",
    "predictions"
   ]
  },
  {
   "cell_type": "code",
   "execution_count": null,
   "metadata": {},
   "outputs": [],
   "source": [
    "viscosity_parameters = model.viscosity_parameters(df)\n",
    "viscosity_parameters"
   ]
  },
  {
   "cell_type": "markdown",
   "metadata": {},
   "source": [
    "## ViscNet basic usage\n",
    "\n"
   ]
  },
  {
   "cell_type": "markdown",
   "metadata": {},
   "source": [
    "The usage of ViscNet is similar to GlassNet. In fact, GlassNet performs\n",
    "better than ViscNet, so it is recommended to use GlassNet for viscosity\n",
    "prediction. Nevertheless, below is a minimal example of loading and\n",
    "using ViscNet.\n",
    "\n"
   ]
  },
  {
   "cell_type": "code",
   "execution_count": null,
   "metadata": {},
   "outputs": [],
   "source": [
    "from glasspy.predict import ViscNet\n",
    "\n",
    "model = ViscNet()\n",
    "log10_viscosity = model.predict(T=1000, composition=df)\n",
    "log10_viscosity"
   ]
  },
  {
   "cell_type": "code",
   "execution_count": null,
   "metadata": {},
   "outputs": [],
   "source": [
    "fragility = model.predict_fragility(df)\n",
    "print(fragility)"
   ]
  },
  {
   "cell_type": "code",
   "execution_count": null,
   "metadata": {},
   "outputs": [],
   "source": [
    "Tg = model.predict_Tg(df)\n",
    "print(Tg)"
   ]
  }
 ],
 "metadata": {
  "kernelspec": {
   "display_name": "Python 3 (ipykernel)",
   "language": "python",
   "name": "python3"
  },
  "language_info": {
   "codemirror_mode": {
    "name": "ipython",
    "version": 3
   },
   "file_extension": ".py",
   "mimetype": "text/x-python",
   "name": "python",
   "nbconvert_exporter": "python",
   "pygments_lexer": "ipython3",
   "version": "3.10.12"
  },
  "org": null
 },
 "nbformat": 4,
 "nbformat_minor": 4
}
